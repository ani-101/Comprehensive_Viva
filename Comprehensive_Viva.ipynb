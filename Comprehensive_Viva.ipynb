{
  "nbformat": 4,
  "nbformat_minor": 0,
  "metadata": {
    "colab": {
      "provenance": [],
      "authorship_tag": "ABX9TyPniTsOb1xefJeb5RjhpsDT",
      "include_colab_link": true
    },
    "kernelspec": {
      "name": "python3",
      "display_name": "Python 3"
    },
    "language_info": {
      "name": "python"
    }
  },
  "cells": [
    {
      "cell_type": "markdown",
      "metadata": {
        "id": "view-in-github",
        "colab_type": "text"
      },
      "source": [
        "<a href=\"https://colab.research.google.com/github/ani-101/Comprehensive_Viva/blob/main/Comprehensive_Viva.ipynb\" target=\"_parent\"><img src=\"https://colab.research.google.com/assets/colab-badge.svg\" alt=\"Open In Colab\"/></a>"
      ]
    },
    {
      "cell_type": "code",
      "execution_count": null,
      "metadata": {
        "colab": {
          "base_uri": "https://localhost:8080/"
        },
        "id": "3N71boojN9-h",
        "outputId": "cfda56d6-40a3-470b-a6a8-f1ef0fb4988c"
      },
      "outputs": [
        {
          "output_type": "stream",
          "name": "stdout",
          "text": [
            "hello\n"
          ]
        }
      ],
      "source": [
        "print('hello')\n"
      ]
    },
    {
      "cell_type": "code",
      "source": [
        "import requests \n",
        "from bs4 import BeautifulSoup\n",
        "import pandas as pd"
      ],
      "metadata": {
        "id": "2l6pW0SoOLuP"
      },
      "execution_count": null,
      "outputs": []
    },
    {
      "cell_type": "markdown",
      "source": [],
      "metadata": {
        "id": "CQF_RbMZOMeZ"
      }
    },
    {
      "cell_type": "markdown",
      "source": [
        "Web scrapping\n"
      ],
      "metadata": {
        "id": "jMFFzQQaB7l8"
      }
    },
    {
      "cell_type": "code",
      "source": [
        "url = \"https://www.amazon.com\"\n",
        "r = requests.get(url)\n",
        "htmlcontent = r.content\n",
        "soup = BeautifulSoup(htmlcontent,\"html.parser\")\n",
        "anchor=soup.find_all('a')\n",
        "data = []\n",
        "for link in anchor:\n",
        "  data.append(link.get('href'))\n",
        "\n",
        "df = pd.DataFrame(data)\n",
        "print('dataframe',df)"
      ],
      "metadata": {
        "colab": {
          "base_uri": "https://localhost:8080/"
        },
        "id": "6Z4riwULBAJA",
        "outputId": "68d29b2b-a38f-4287-ea38-edb8508b2451"
      },
      "execution_count": null,
      "outputs": [
        {
          "output_type": "stream",
          "name": "stdout",
          "text": [
            "dataframe                             0\n",
            "0            /ref=cs_503_logo\n",
            "1            /ref=cs_503_link\n",
            "2  /dogsofamazon/ref=cs_503_d\n"
          ]
        }
      ]
    },
    {
      "cell_type": "code",
      "source": [
        "#for extracting h1 tag\n",
        "\n",
        "url = \"http://www.rknec.edu/\"\n",
        "r = requests.get(url)\n",
        "htmlcontent = r.content\n",
        "soup = BeautifulSoup(htmlcontent,\"html.parser\")\n",
        "anchor=soup.find_all('h1')\n",
        "\n",
        "\n",
        "print(anchor)"
      ],
      "metadata": {
        "colab": {
          "base_uri": "https://localhost:8080/"
        },
        "id": "jYHZuOwMBwjS",
        "outputId": "c56c74d4-82e4-41b8-bf37-a898e3379ff8"
      },
      "execution_count": null,
      "outputs": [
        {
          "output_type": "stream",
          "name": "stdout",
          "text": [
            "[<h1 class=\"page-title\">\n",
            "<!--\r\n",
            "                        <img src=\"img/LOGO/Ramdeobaba-Logo.png\">\r\n",
            "\r\n",
            "                        <span>RCOEM </span>\r\n",
            "-->\n",
            "</h1>]\n"
          ]
        }
      ]
    },
    {
      "cell_type": "code",
      "source": [],
      "metadata": {
        "id": "qO5c5rg1CY8i"
      },
      "execution_count": null,
      "outputs": []
    }
  ]
}